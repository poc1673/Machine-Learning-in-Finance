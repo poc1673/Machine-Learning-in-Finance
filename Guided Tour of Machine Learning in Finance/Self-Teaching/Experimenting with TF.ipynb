# -*- coding: utf-8 -*-
"""
Created on Sat Sep 29 13:18:31 2018

@author: USER
"""

import numpy as np
import tensorflow as tf
import sys
from sklearn.datasets import fetch_california_housing

housing = fetch_california_housing()
m, n = housing.data.shape
housing_data_plus_bias = np.c_[np.ones((m,1)), housing.data]
X = tf.constant(housing_data_plus_bias, dtype = tf.float32, name = "X")
y = tf.constant(housing.target.reshape(-1,1), dtype = tf.float32, name = "y")
XT = tf.transpose(X)
theta = tf.matmul(tf.matmul(tf.matrix_inverse(tf.matmul(XT,X)), XT), y)
with tf.Session() as sess: 
    theta_value = theta.eval()


reset_graph()



from sklearn.preprocessing import StandardScaler
scaler = StandardScaler()
scaled_housing_data = scaler.fit_transform(housing.data)
scaled_housing_data_plus_bias = np.c_[np.ones((m, 1)), scaled_housing_data]

#reset_graph()

def MSE_loss_fun(y_pred,y):
    error = y_pred - y
    mse = tf.reduce_mean(tf.square(error), name="mse")
    return(mse)


n_epochs = 1000
learning_rate = 0.01

X = tf.constant(scaled_housing_data_plus_bias, dtype=tf.float32, name="X")
y = tf.constant(housing.target.reshape(-1, 1), dtype=tf.float32, name="y")
theta = tf.Variable(tf.random_uniform([n + 1, 1], -1.0, 1.0, seed=42), name="theta")
y_pred = tf.matmul(X, theta, name="predictions")
# Definition of the loss function is here. This part is then taken into the algo for autodiff.

mse = MSE_loss_fun(y_pred = y_pred, y = y)

#gradients = 2/m * tf.matmul(tf.transpose(X), error)
gradients = tf.gradients(mse, [theta])[0]
training_op = tf.assign(theta, theta - learning_rate * gradients)

init = tf.global_variables_initializer()

with tf.Session() as sess:
    sess.run(init)

    for epoch in range(n_epochs):
        if epoch % 100 == 0:
            print("Epoch", epoch, "MSE =", mse.eval())
        sess.run(training_op)
    
    best_theta = theta.eval()